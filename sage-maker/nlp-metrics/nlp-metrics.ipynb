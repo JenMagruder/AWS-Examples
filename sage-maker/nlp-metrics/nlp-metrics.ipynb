{
 "cells": [
  {
   "cell_type": "code",
   "execution_count": 13,
   "id": "a041afba-9bdb-4ae7-88be-efdf63688388",
   "metadata": {},
   "outputs": [
    {
     "name": "stdout",
     "output_type": "stream",
     "text": [
      "Requirement already satisfied: nltk in /opt/conda/lib/python3.11/site-packages (3.9.1)\n",
      "Requirement already satisfied: click in /opt/conda/lib/python3.11/site-packages (from nltk) (8.1.7)\n",
      "Requirement already satisfied: joblib in /opt/conda/lib/python3.11/site-packages (from nltk) (1.4.2)\n",
      "Requirement already satisfied: regex>=2021.8.3 in /opt/conda/lib/python3.11/site-packages (from nltk) (2024.7.24)\n",
      "Requirement already satisfied: tqdm in /opt/conda/lib/python3.11/site-packages (from nltk) (4.66.5)\n",
      "Note: you may need to restart the kernel to use updated packages.\n",
      "Collecting rouge-score\n",
      "  Downloading rouge_score-0.1.2.tar.gz (17 kB)\n",
      "  Preparing metadata (setup.py) ... \u001b[?25ldone\n",
      "\u001b[?25hRequirement already satisfied: absl-py in /opt/conda/lib/python3.11/site-packages (from rouge-score) (2.1.0)\n",
      "Requirement already satisfied: nltk in /opt/conda/lib/python3.11/site-packages (from rouge-score) (3.9.1)\n",
      "Requirement already satisfied: numpy in /opt/conda/lib/python3.11/site-packages (from rouge-score) (1.26.4)\n",
      "Requirement already satisfied: six>=1.14.0 in /opt/conda/lib/python3.11/site-packages (from rouge-score) (1.16.0)\n",
      "Requirement already satisfied: click in /opt/conda/lib/python3.11/site-packages (from nltk->rouge-score) (8.1.7)\n",
      "Requirement already satisfied: joblib in /opt/conda/lib/python3.11/site-packages (from nltk->rouge-score) (1.4.2)\n",
      "Requirement already satisfied: regex>=2021.8.3 in /opt/conda/lib/python3.11/site-packages (from nltk->rouge-score) (2024.7.24)\n",
      "Requirement already satisfied: tqdm in /opt/conda/lib/python3.11/site-packages (from nltk->rouge-score) (4.66.5)\n",
      "Building wheels for collected packages: rouge-score\n",
      "  Building wheel for rouge-score (setup.py) ... \u001b[?25ldone\n",
      "\u001b[?25h  Created wheel for rouge-score: filename=rouge_score-0.1.2-py3-none-any.whl size=24935 sha256=d4bfbfef7bcce04f230dfc0bc14b67d903943125ea7201c62559a1fef6113e9a\n",
      "  Stored in directory: /home/sagemaker-user/.cache/pip/wheels/1e/19/43/8a442dc83660ca25e163e1bd1f89919284ab0d0c1475475148\n",
      "Successfully built rouge-score\n",
      "Installing collected packages: rouge-score\n",
      "Successfully installed rouge-score-0.1.2\n",
      "Note: you may need to restart the kernel to use updated packages.\n"
     ]
    }
   ],
   "source": [
    "%pip install nltk\n",
    "%pip install rouge-score"
   ]
  },
  {
   "cell_type": "code",
   "execution_count": 1,
   "id": "3de6a23b-8bbc-4175-9ac8-f79e693e5b77",
   "metadata": {},
   "outputs": [],
   "source": [
    "import nltk\n",
    "from nltk.translate.bleu_score import sentence_bleu, SmoothingFunction"
   ]
  },
  {
   "cell_type": "code",
   "execution_count": 5,
   "id": "e2b80490-28b8-4461-9a17-b9d92d8e6aba",
   "metadata": {},
   "outputs": [
    {
     "name": "stderr",
     "output_type": "stream",
     "text": [
      "[nltk_data] Downloading package punkt to /home/sagemaker-\n",
      "[nltk_data]     user/nltk_data...\n",
      "[nltk_data]   Package punkt is already up-to-date!\n",
      "[nltk_data] Downloading package punkt_tab to /home/sagemaker-\n",
      "[nltk_data]     user/nltk_data...\n",
      "[nltk_data]   Unzipping tokenizers/punkt_tab.zip.\n"
     ]
    },
    {
     "data": {
      "text/plain": [
       "True"
      ]
     },
     "execution_count": 5,
     "metadata": {},
     "output_type": "execute_result"
    }
   ],
   "source": [
    "nltk.download('punkt')\n",
    "nltk.download('punkt_tab')"
   ]
  },
  {
   "cell_type": "code",
   "execution_count": 18,
   "id": "ae7567ad-b021-4e83-89ac-5e48950b3e03",
   "metadata": {},
   "outputs": [],
   "source": [
    "reference1 = 'the cat is on the mat'\n",
    "reference2 = 'there is a cat on the mat'\n",
    "references = [\n",
    "    nltk.word_tokenize(reference1),\n",
    "    nltk.word_tokenize(reference2)\n",
    "]\n",
    "# Candidate translation\n",
    "# candidate_sentence = 'the cat is on the mat' # extact match\n",
    "candidate_sentence = 'the cat sat on the mat' # similar match\n",
    "candidate = nltk.word_tokenize(candidate_sentence)"
   ]
  },
  {
   "cell_type": "code",
   "execution_count": 11,
   "id": "5e4db910-7a64-454e-a73c-a0cdd2f95f58",
   "metadata": {},
   "outputs": [],
   "source": [
    "# Calculate BLEU score with smoothing\n",
    "smoothie = SmoothingFunction().method4\n",
    "bleu_score = sentence_bleu(\n",
    "    references,\n",
    "    candidate,\n",
    "    smoothing_function=smoothie\n",
    ")"
   ]
  },
  {
   "cell_type": "code",
   "execution_count": 12,
   "id": "c66b1aff-5e8f-45f4-bc96-bc0c5727daf5",
   "metadata": {},
   "outputs": [
    {
     "name": "stdout",
     "output_type": "stream",
     "text": [
      "Candidate Sentence: the cat is on the mat\n",
      "BLEU score: 1.0000\n"
     ]
    }
   ],
   "source": [
    "\n",
    "print(f\"Candidate Sentence: {candidate_sentence}\")\n",
    "print(f\"BLEU score: {bleu_score:.4f}\")"
   ]
  },
  {
   "cell_type": "code",
   "execution_count": 14,
   "id": "b9d0f52f-8c6d-4e28-8324-35d2279ba382",
   "metadata": {},
   "outputs": [],
   "source": [
    "from nltk.translate.meteor_score import meteor_score"
   ]
  },
  {
   "cell_type": "code",
   "execution_count": 15,
   "id": "6b034132-e0a5-437a-b6d3-32a4cfffce24",
   "metadata": {},
   "outputs": [
    {
     "name": "stderr",
     "output_type": "stream",
     "text": [
      "[nltk_data] Downloading package wordnet to /home/sagemaker-\n",
      "[nltk_data]     user/nltk_data...\n"
     ]
    },
    {
     "data": {
      "text/plain": [
       "True"
      ]
     },
     "execution_count": 15,
     "metadata": {},
     "output_type": "execute_result"
    }
   ],
   "source": [
    "nltk.download('wordnet')  # Required for METEOR"
   ]
  },
  {
   "cell_type": "code",
   "execution_count": 19,
   "id": "29275e7d-5ee0-469c-93b9-328690da6eae",
   "metadata": {},
   "outputs": [
    {
     "name": "stdout",
     "output_type": "stream",
     "text": [
      "Candidate Sentence: ['the', 'cat', 'sat', 'on', 'the', 'mat']\n",
      "METEOR score: 0.8067\n"
     ]
    }
   ],
   "source": [
    "# Calculate METEOR score\n",
    "meteor = meteor_score(references, candidate)\n",
    "\n",
    "print(f\"Candidate Sentence: {candidate}\")\n",
    "print(f\"METEOR score: {meteor:.4f}\")"
   ]
  },
  {
   "cell_type": "code",
   "execution_count": 20,
   "id": "7634a663-6120-48c0-a45e-0f3c3ed56ba1",
   "metadata": {},
   "outputs": [],
   "source": [
    "from rouge_score import rouge_scorer"
   ]
  },
  {
   "cell_type": "code",
   "execution_count": 22,
   "id": "6a16ce86-fc85-482a-89a0-e7c48ea1ca18",
   "metadata": {},
   "outputs": [
    {
     "name": "stdout",
     "output_type": "stream",
     "text": [
      "ROUGE-1 score: 0.5263\n",
      "ROUGE-L score: 0.5263\n"
     ]
    }
   ],
   "source": [
    "references = [\n",
    "    'the cat is on the mat',\n",
    "    'there is a cat on the mat'\n",
    "]\n",
    "# Candidate translation\n",
    "# candidate_sentence = 'the cat is on the mat' # extact match\n",
    "candidate = 'the cat sat on the mat' # similar match\n",
    "\n",
    "scorer = rouge_scorer.RougeScorer(['rouge1', 'rougeL'], use_stemmer=True)\n",
    "scores = scorer.score(' '.join(references), candidate)\n",
    "\n",
    "print(f\"ROUGE-1 score: {scores['rouge1'].fmeasure:.4f}\")\n",
    "print(f\"ROUGE-L score: {scores['rougeL'].fmeasure:.4f}\")"
   ]
  }
 ],
 "metadata": {
  "kernelspec": {
   "display_name": "Python 3 (ipykernel)",
   "language": "python",
   "name": "python3"
  },
  "language_info": {
   "codemirror_mode": {
    "name": "ipython",
    "version": 3
   },
   "file_extension": ".py",
   "mimetype": "text/x-python",
   "name": "python",
   "nbconvert_exporter": "python",
   "pygments_lexer": "ipython3",
   "version": "3.11.9"
  }
 },
 "nbformat": 4,
 "nbformat_minor": 5
}
