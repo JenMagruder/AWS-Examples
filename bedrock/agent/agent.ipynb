{
 "cells": [
  {
   "cell_type": "code",
   "execution_count": null,
   "metadata": {
    "vscode": {
     "languageId": "plaintext"
    }
   },
   "outputs": [],
   "source": [
    "# Build Image\n",
    "docker build -t  app .\n",
    "\n",
    "# Register Job\n",
    "\n",
    "aws batch register-job-definition \\\n",
    "--job-definition-name square-job \\\n",
    "--type container \\\n",
    "--container-properties '{\n",
    "    \"image\": \"982383527471.dkr.ecr.ca-central-1.amazonaws.com/square\",\n",
    "    \"vcpus\": 1, \n",
    "    \"memory\": 128\n",
    "}'\n",
    "\n",
    "https://docs.aws.amazon.com/cli/latest/reference/batch/register-job-definition.html#examples\n",
    "\n",
    "# Create Compute Env\n",
    "\n",
    "aws batch create-compute-environment --compute-environment-name my-compute-env \\\n",
    "--type MANAGED \\\n",
    "--compute-resources minvCpus=0,desiredvCpus=1,maxvCpus=1,instanceTypes=m4.16xlarge,subnets=subnet-12345678,securityGroupIds=sg-12345678 \\\n",
    "    --service-role arn:aws:iam::123456789012:role/service-role/AWSBatchServiceRole\n",
    "\n",
    "# Create Queue\n",
    "\n",
    "\n",
    "aws batch create-job-queue \\\n",
    "--job-queue-name my-job-queue \\\n",
    "--state ENABLED \\\n",
    "--priority 1 \\\n",
    "--compute-environment-order '[\n",
    "  {\n",
    "    \"order\": 1,\n",
    "    \"computeEnvironment\": \"arn:aws:batch:ca-central-1:982383527471:compute-environment/ComputeEnv\"\n",
    "  }\n",
    "]'\n",
    "\n",
    "# Submit Job\n",
    "\n",
    "aws batch submit-job \\\n",
    "    --job-name my-job \\\n",
    "    --job-definition square-job \\\n",
    "    --job-queue my-job-queue"
   ]
  }
 ],
 "metadata": {
  "language_info": {
   "name": "python"
  }
 },
 "nbformat": 4,
 "nbformat_minor": 2
}
